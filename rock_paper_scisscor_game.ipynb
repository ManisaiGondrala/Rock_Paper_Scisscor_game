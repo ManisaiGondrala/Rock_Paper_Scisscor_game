{
 "cells": [
  {
   "cell_type": "code",
   "execution_count": null,
   "id": "8bfec5c6-db70-49e3-8bd6-d44e7fbdc503",
   "metadata": {},
   "outputs": [
    {
     "name": "stdout",
     "output_type": "stream",
     "text": [
      "Do you want to play:\n",
      "enter Y/N\n"
     ]
    },
    {
     "name": "stdin",
     "output_type": "stream",
     "text": [
      " y\n"
     ]
    },
    {
     "name": "stdout",
     "output_type": "stream",
     "text": [
      "Game rules:\n",
      " enter 1 for Rock:\n",
      " enter 2 for Paper:\n",
      " enter 3 for Scisscor:\n"
     ]
    },
    {
     "name": "stdin",
     "output_type": "stream",
     "text": [
      " 1\n"
     ]
    },
    {
     "name": "stdout",
     "output_type": "stream",
     "text": [
      "your choice: Rock\n",
      "computer choice: Rock\n",
      "Draw match\n",
      "Do you want to play:\n",
      "enter Y/N\n"
     ]
    },
    {
     "name": "stdin",
     "output_type": "stream",
     "text": [
      " y\n"
     ]
    },
    {
     "name": "stdout",
     "output_type": "stream",
     "text": [
      "Game rules:\n",
      " enter 1 for Rock:\n",
      " enter 2 for Paper:\n",
      " enter 3 for Scisscor:\n"
     ]
    },
    {
     "name": "stdin",
     "output_type": "stream",
     "text": [
      " 2\n"
     ]
    },
    {
     "name": "stdout",
     "output_type": "stream",
     "text": [
      "your choice: Paper\n",
      "computer choice: Paper\n",
      "Draw match\n",
      "Do you want to play:\n",
      "enter Y/N\n"
     ]
    },
    {
     "name": "stdin",
     "output_type": "stream",
     "text": [
      " y\n"
     ]
    },
    {
     "name": "stdout",
     "output_type": "stream",
     "text": [
      "Game rules:\n",
      " enter 1 for Rock:\n",
      " enter 2 for Paper:\n",
      " enter 3 for Scisscor:\n"
     ]
    },
    {
     "name": "stdin",
     "output_type": "stream",
     "text": [
      " 1\n"
     ]
    },
    {
     "name": "stdout",
     "output_type": "stream",
     "text": [
      "your choice: Rock\n",
      "computer choice: Scisscor\n",
      "You won the match\n",
      "Do you want to play:\n",
      "enter Y/N\n"
     ]
    }
   ],
   "source": [
    "import random\n",
    "x=True\n",
    "while(x):\n",
    "    print(\"Do you want to play:\")\n",
    "    print(\"enter Y/N\")\n",
    "    ch=input().strip()\n",
    "    if ch==\"Y\" or ch==\"y\":\n",
    "        print(\"Game rules:\")\n",
    "        print(\" enter 1 for Rock:\")\n",
    "        print(\" enter 2 for Paper:\")\n",
    "        print(\" enter 3 for Scisscor:\")\n",
    "        user_input=int(input())\n",
    "        if user_input==1:\n",
    "            user_choice=\"Rock\"\n",
    "        elif user_input==2:\n",
    "            user_choice=\"Paper\"\n",
    "        elif user_input==3:\n",
    "            user_choice=\"Scisscor\"\n",
    "        else:\n",
    "            print(\"Enter a valid input\")\n",
    "            continue\n",
    "        com_input=random.randint(1, 3)\n",
    "        if com_input==1:\n",
    "            com_choice=\"Rock\"\n",
    "        elif com_input==2:\n",
    "            com_choice=\"Paper\"\n",
    "        elif com_input==3:\n",
    "            com_choice=\"Scisscor\"\n",
    "        if user_choice==com_choice:\n",
    "            print(\"your choice:\",end=\" \")\n",
    "            print(user_choice)\n",
    "            print(\"computer choice:\",end=\" \")\n",
    "            print(com_choice)\n",
    "            print(\"Draw match\")\n",
    "        elif user_choice==\"Rock\" and com_choice==\"Paper\":\n",
    "            print(\"your choice:\",end=\" \")\n",
    "            print(user_choice)\n",
    "            print(\"computer choice:\",end=\" \")\n",
    "            print(com_choice)\n",
    "            print(\"Computer won the match\")\n",
    "        elif user_choice==\"Paper\" and com_choice==\"Rock\":\n",
    "            print(\"your choice:\",end=\" \")\n",
    "            print(user_choice)\n",
    "            print(\"computer choice:\",end=\" \")\n",
    "            print(com_choice)\n",
    "            print(\"You wons the match\")\n",
    "        elif user_choice==\"Paper\" and com_choice==\"Scisscor\":\n",
    "            print(\"your choice:\",end=\" \")\n",
    "            print(user_choice)\n",
    "            print(\"computer choice:\",end=\" \")\n",
    "            print(com_choice)\n",
    "            print(\"Computer won the match\")\n",
    "        elif user_choice==\"Scisscor\" and com_choice==\"Paper\":\n",
    "            print(\"your choice:\",end=\" \")\n",
    "            print(user_choice)\n",
    "            print(\"computer choice:\",end=\" \")\n",
    "            print(com_choice)\n",
    "            print(\"You won the match\")\n",
    "        elif user_choice==\"Rock\" and com_choice==\"Scisscor\":\n",
    "            print(\"your choice:\",end=\" \")\n",
    "            print(user_choice)\n",
    "            print(\"computer choice:\",end=\" \")\n",
    "            print(com_choice)\n",
    "            print(\"You won the match\")\n",
    "        elif user_choice==\"Scisscor\" and com_choice==\"Rock\":\n",
    "            print(\"your choice:\",end=\" \")\n",
    "            print(user_choice)\n",
    "            print(\"computer choice:\",end=\" \")\n",
    "            print(com_choice)\n",
    "            print(\"Computer won the match\")\n",
    "            \n",
    "    if ch==\"N\" or ch==\"n\":\n",
    "        x=False\n",
    "        print(\"Game Exit\")"
   ]
  },
  {
   "cell_type": "code",
   "execution_count": null,
   "id": "9e0c3b0c-e992-469c-8766-9624ef1ed7af",
   "metadata": {},
   "outputs": [],
   "source": []
  }
 ],
 "metadata": {
  "kernelspec": {
   "display_name": "Python 3 (ipykernel)",
   "language": "python",
   "name": "python3"
  },
  "language_info": {
   "codemirror_mode": {
    "name": "ipython",
    "version": 3
   },
   "file_extension": ".py",
   "mimetype": "text/x-python",
   "name": "python",
   "nbconvert_exporter": "python",
   "pygments_lexer": "ipython3",
   "version": "3.12.4"
  }
 },
 "nbformat": 4,
 "nbformat_minor": 5
}
